{
 "cells": [
  {
   "cell_type": "raw",
   "metadata": {
    "collapsed": false
   },
   "source": [
    "Consiste en encontrar un intervalo donde haya un cambio de signo. Despueshay que dividir este intervalo por la mitad hasta el error deseado."
   ]
  },
  {
   "cell_type": "code",
   "execution_count": 3,
   "metadata": {
    "collapsed": false
   },
   "outputs": [
    {
     "name": "stdout",
     "output_type": "stream",
     "text": [
      "raiz = 3.41406\n",
      "iteraciones = 04095\n"
     ]
    }
   ],
   "source": [
    "#Ejemplo Paracaidas\n",
    "import math\n",
    "import numpy as np\n",
    "import matplotlib.pyplot as plt\n",
    "def fun(c):\n",
    "    return (c**3)-(7*c**2)+(14*c)-6\n",
    "\n",
    "arrayLen=100\n",
    "cIni=0\n",
    "cEnd=30\n",
    "carray= np.linspace (cIni,cEnd,arrayLen)\n",
    "fcarray=np.zeros(arrayLen)\n",
    "\n",
    "\n",
    "\n",
    "c0=1+2.2\n",
    "c1=1+2.2+0.8\n",
    "maxIter=100\n",
    "itera=0\n",
    "for i in range(maxIter):\n",
    "    itera+=itera+1\n",
    "    fc0=fun(c0)\n",
    "    fc1=fun(c1)\n",
    "    if fc0*fc1>0:\n",
    "        print(\"No hay raiz en este rango\")\n",
    "        break\n",
    "    cr=(c1+c0)/2\n",
    "    fcr=fun(cr)\n",
    "    if fc0*fcr<0:\n",
    "        c1=cr\n",
    "    else:\n",
    "        c0=cr\n",
    "    if abs(fcr)<0.0001:\n",
    "        break\n",
    "print(\"raiz = %.5f\"%c0)\n",
    "print (\"iteraciones = %.5i\"%itera)"
   ]
  },
  {
   "cell_type": "code",
   "execution_count": 0,
   "metadata": {
    "collapsed": false
   },
   "outputs": [
   ],
   "source": [
   ]
  },
  {
   "cell_type": "code",
   "execution_count": 0,
   "metadata": {
    "collapsed": false
   },
   "outputs": [
   ],
   "source": [
   ]
  }
 ],
 "metadata": {
  "kernelspec": {
   "display_name": "Python 3 (Anaconda 5)",
   "language": "python",
   "name": "anaconda5"
  },
  "language_info": {
   "codemirror_mode": {
    "name": "ipython",
    "version": 3
   },
   "file_extension": ".py",
   "mimetype": "text/x-python",
   "name": "python",
   "nbconvert_exporter": "python",
   "pygments_lexer": "ipython3",
   "version": "3.6.5"
  }
 },
 "nbformat": 4,
 "nbformat_minor": 0
}